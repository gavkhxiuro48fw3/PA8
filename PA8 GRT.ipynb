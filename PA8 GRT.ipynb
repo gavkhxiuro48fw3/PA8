{
 "cells": [
  {
   "cell_type": "markdown",
   "id": "f593909f",
   "metadata": {},
   "source": [
    "## Gavin Trumbull\n",
    "# assignment 8, eric matthes, 2nd edition, spring 2023\n",
    "# CS150"
   ]
  },
  {
   "cell_type": "code",
   "execution_count": 2,
   "id": "ec15bd4d",
   "metadata": {},
   "outputs": [],
   "source": [
    "import numpy as np"
   ]
  },
  {
   "cell_type": "code",
   "execution_count": 3,
   "id": "90157098",
   "metadata": {},
   "outputs": [
    {
     "data": {
      "text/plain": [
       "array([[10, 20],\n",
       "       [30, 40]])"
      ]
     },
     "execution_count": 3,
     "metadata": {},
     "output_type": "execute_result"
    }
   ],
   "source": [
    "array1=np.arange(10,50,10)\n",
    "aray=array1.reshape(2,2)\n",
    "aray"
   ]
  },
  {
   "cell_type": "code",
   "execution_count": 4,
   "id": "5b63e9b0",
   "metadata": {},
   "outputs": [
    {
     "name": "stdout",
     "output_type": "stream",
     "text": [
      "[[ 100  400]\n",
      " [ 900 1600]]\n"
     ]
    }
   ],
   "source": [
    "print(aray**2)"
   ]
  },
  {
   "cell_type": "code",
   "execution_count": 5,
   "id": "2442d845",
   "metadata": {},
   "outputs": [
    {
     "name": "stdout",
     "output_type": "stream",
     "text": [
      "[[110 120]\n",
      " [130 140]]\n"
     ]
    }
   ],
   "source": [
    "print(aray+100)"
   ]
  },
  {
   "cell_type": "code",
   "execution_count": 6,
   "id": "ac085d9e",
   "metadata": {},
   "outputs": [
    {
     "name": "stdout",
     "output_type": "stream",
     "text": [
      "[[ 50 100]\n",
      " [150 200]]\n"
     ]
    }
   ],
   "source": [
    "print(aray*5)"
   ]
  },
  {
   "cell_type": "code",
   "execution_count": 7,
   "id": "e025323d",
   "metadata": {},
   "outputs": [
    {
     "name": "stdout",
     "output_type": "stream",
     "text": [
      "[[3.16227766 4.47213595]\n",
      " [5.47722558 6.32455532]]\n"
     ]
    }
   ],
   "source": [
    "print(aray**.5)"
   ]
  },
  {
   "cell_type": "code",
   "execution_count": 12,
   "id": "434393c6",
   "metadata": {},
   "outputs": [
    {
     "data": {
      "text/plain": [
       "array([[ 3,  6,  9],\n",
       "       [12, 15, 18],\n",
       "       [21, 24, 27]])"
      ]
     },
     "execution_count": 12,
     "metadata": {},
     "output_type": "execute_result"
    }
   ],
   "source": [
    "array2=np.arange(3,30,3)\n",
    "aray2=array2.reshape(3,3)\n",
    "aray2"
   ]
  },
  {
   "cell_type": "code",
   "execution_count": 11,
   "id": "39674b43",
   "metadata": {},
   "outputs": [
    {
     "data": {
      "text/plain": [
       "array([[10.  , 11.25, 12.5 ],\n",
       "       [13.75, 15.  , 16.25],\n",
       "       [17.5 , 18.75, 20.  ]])"
      ]
     },
     "execution_count": 11,
     "metadata": {},
     "output_type": "execute_result"
    }
   ],
   "source": [
    "array3=np.linspace(10,20,9)\n",
    "aray3=array3.reshape(3,3)\n",
    "aray3"
   ]
  },
  {
   "cell_type": "code",
   "execution_count": 13,
   "id": "87f28649",
   "metadata": {},
   "outputs": [
    {
     "data": {
      "text/plain": [
       "array([[ 30. ,  67.5, 112.5],\n",
       "       [165. , 225. , 292.5],\n",
       "       [367.5, 450. , 540. ]])"
      ]
     },
     "execution_count": 13,
     "metadata": {},
     "output_type": "execute_result"
    }
   ],
   "source": [
    "aray2*aray3"
   ]
  },
  {
   "cell_type": "code",
   "execution_count": 19,
   "id": "59e6d5ab",
   "metadata": {},
   "outputs": [
    {
     "name": "stdout",
     "output_type": "stream",
     "text": [
      "[[52 12 81  0 58]]\n",
      "[[96  4 61 16 43]]\n",
      "[[38 96 45 17 58]]\n",
      "[[97 21 22 25  6]]\n",
      "[[77  6 19  2 74]]\n"
     ]
    }
   ],
   "source": [
    "p1=np.load('process1.npy')\n",
    "print(p1)\n",
    "p2=np.load('process2.npy')\n",
    "print(p2)\n",
    "p3=np.load('process3.npy')\n",
    "print(p3)\n",
    "p4=np.load('process4.npy')\n",
    "print(p4)\n",
    "p5=np.load('process5.npy')\n",
    "print(p5)\n"
   ]
  },
  {
   "cell_type": "code",
   "execution_count": 23,
   "id": "da1f7c61",
   "metadata": {},
   "outputs": [
    {
     "name": "stdout",
     "output_type": "stream",
     "text": [
      "[[52 12 81  0 58]\n",
      " [96  4 61 16 43]\n",
      " [38 96 45 17 58]\n",
      " [97 21 22 25  6]\n",
      " [77  6 19  2 74]]\n"
     ]
    }
   ],
   "source": [
    "array=np.concatenate([p1,p2,p3,p4,p5])\n",
    "print(array)"
   ]
  },
  {
   "cell_type": "code",
   "execution_count": 29,
   "id": "b0f6929c",
   "metadata": {},
   "outputs": [
    {
     "name": "stdout",
     "output_type": "stream",
     "text": [
      "72.0\n",
      "49.9\n",
      "48.46666666666667\n",
      "39.35\n",
      "41.04\n"
     ]
    }
   ],
   "source": [
    "print(array[:,:1].mean())\n",
    "print(array[:,:2].mean())\n",
    "print(array[:,:3].mean())\n",
    "print(array[:,:4].mean())\n",
    "print(array[:,:5].mean())"
   ]
  },
  {
   "cell_type": "code",
   "execution_count": null,
   "id": "35135bdf",
   "metadata": {},
   "outputs": [],
   "source": []
  },
  {
   "cell_type": "code",
   "execution_count": null,
   "id": "9bc564b0",
   "metadata": {},
   "outputs": [],
   "source": []
  }
 ],
 "metadata": {
  "kernelspec": {
   "display_name": "Python 3 (ipykernel)",
   "language": "python",
   "name": "python3"
  },
  "language_info": {
   "codemirror_mode": {
    "name": "ipython",
    "version": 3
   },
   "file_extension": ".py",
   "mimetype": "text/x-python",
   "name": "python",
   "nbconvert_exporter": "python",
   "pygments_lexer": "ipython3",
   "version": "3.9.13"
  }
 },
 "nbformat": 4,
 "nbformat_minor": 5
}
